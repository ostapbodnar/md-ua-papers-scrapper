{
 "cells": [
  {
   "cell_type": "code",
   "execution_count": 1,
   "metadata": {
    "collapsed": true,
    "ExecuteTime": {
     "end_time": "2024-07-27T20:57:10.470222Z",
     "start_time": "2024-07-27T20:57:09.798629Z"
    }
   },
   "outputs": [],
   "source": [
    "import os\n",
    "\n",
    "import elsapy\n",
    "from elsapy.elsclient import ElsClient\n",
    "from elsapy.elssearch import ElsSearch\n",
    "from elsapy.elsdoc import FullDoc\n",
    "from dotenv import load_dotenv\n",
    "load_dotenv()\n",
    "\n",
    "# Load your API key\n",
    "API_KEY = os.getenv(\"ELSAVIER_API_KEY\")\n",
    "client = ElsClient(API_KEY)\n"
   ]
  },
  {
   "cell_type": "code",
   "execution_count": 2,
   "outputs": [],
   "source": [
    "search_query = 'LANGUAGE ( ukrainian ) AND ( LIMIT-TO ( OA , \"all\" ) )'\n",
    "search = ElsSearch(search_query, 'scopus')\n",
    "search.execute(client)"
   ],
   "metadata": {
    "collapsed": false,
    "ExecuteTime": {
     "end_time": "2024-07-27T20:57:11.564606Z",
     "start_time": "2024-07-27T20:57:10.646226Z"
    }
   }
  },
  {
   "cell_type": "code",
   "execution_count": 3,
   "outputs": [
    {
     "data": {
      "text/plain": "25"
     },
     "execution_count": 3,
     "metadata": {},
     "output_type": "execute_result"
    }
   ],
   "source": [
    "len(search.results)"
   ],
   "metadata": {
    "collapsed": false,
    "ExecuteTime": {
     "end_time": "2024-07-27T20:57:13.806236Z",
     "start_time": "2024-07-27T20:57:13.800933Z"
    }
   }
  },
  {
   "cell_type": "code",
   "execution_count": 8,
   "outputs": [],
   "source": [
    "os.makedirs('pdfs', exist_ok=True)"
   ],
   "metadata": {
    "collapsed": false,
    "ExecuteTime": {
     "end_time": "2024-07-19T09:25:32.234244Z",
     "start_time": "2024-07-19T09:25:32.228944Z"
    }
   }
  },
  {
   "cell_type": "code",
   "execution_count": null,
   "outputs": [],
   "source": [
    "import requests\n",
    "from scidownl import scihub_download\n",
    "\n",
    "for doc in search.results:\n",
    "    if 'dc:title' in doc and 'dc:identifier' in doc:\n",
    "\n",
    "        title = doc['dc:title'].replace('/', '-')\n",
    "        identifier = doc['prism:doi']\n",
    "        print(f\"Title: {title}\")\n",
    "        try:\n",
    "\n",
    "        except Exception as exc:\n",
    "            print(f\"Failed to download PDF for: {title} (Status Code: {exc})\")\n",
    "\n",
    "    else:\n",
    "        print(f\"Failed to retrieve full document for: {title}\")"
   ],
   "metadata": {
    "collapsed": false
   }
  },
  {
   "cell_type": "code",
   "execution_count": null,
   "outputs": [],
   "source": [
    "from bs4 import BeautifulSoup\n",
    "from urllib.parse import urljoin\n",
    "\n",
    "\n",
    "def get_pdf_from_doi(doi):\n",
    "    base_url = 'https://doi.org/'\n",
    "    url = base_url + doi\n",
    "    headers = {\n",
    "        'User-Agent': 'Mozilla/5.0 (Windows NT 10.0; Win64; x64) AppleWebKit/537.36 (KHTML, like Gecko) Chrome/58.0.3029.110 Safari/537.3'\n",
    "    }\n",
    "\n",
    "    response = requests.get(url, headers=headers)\n",
    "    if response.status_code != 200:\n",
    "        print(f\"Failed to retrieve the page for DOI: {doi}\")\n",
    "        return\n",
    "\n",
    "    soup = BeautifulSoup(response.text, 'html.parser')\n",
    "    pdf_link = None\n",
    "\n",
    "    # Collect and check all elements with href or src attributes\n",
    "    elements_with_urls = []\n",
    "    for tag in ['a', 'button', 'iframe', 'object', 'embed', 'link', 'img']:\n",
    "        for element in soup.find_all(tag):\n",
    "            href = element.get('href') or element.get('src')\n",
    "            if href and (\"pdf\" in href.lower() or \"pdf\" in element.text.lower()):\n",
    "                href = urljoin(url, href)\n",
    "                elements_with_urls.append(href)\n",
    "\n",
    "    for href in elements_with_urls:\n",
    "        try:\n",
    "            head_response = requests.head(href, headers=headers, allow_redirects=True)\n",
    "            if head_response.headers.get('Content-Type') == 'application/pdf':\n",
    "                pdf_link = href\n",
    "                break\n",
    "            else:\n",
    "                # If the head response is not a PDF, follow the link and check the content\n",
    "                follow_response = requests.get(href, headers=headers, allow_redirects=True)\n",
    "                if follow_response.headers.get('Content-Type') == 'application/pdf':\n",
    "                    pdf_link = href\n",
    "                    break\n",
    "                else:\n",
    "                    # Parse the follow response for additional potential PDF links\n",
    "                    follow_soup = BeautifulSoup(follow_response.text, 'html.parser')\n",
    "                    for tag in ['a', 'button', 'iframe', 'object', 'embed', 'link', 'img']:\n",
    "                        for element in follow_soup.find_all(tag):\n",
    "                            inner_href = element.get('href') or element.get('src')\n",
    "                            if inner_href and (\"pdf\" in inner_href.lower() or \"pdf\" in element.text.lower()):\n",
    "                                inner_href = urljoin(href, inner_href)\n",
    "                                inner_head_response = requests.head(inner_href, headers=headers, allow_redirects=True)\n",
    "                                if inner_head_response.headers.get('Content-Type') == 'application/pdf':\n",
    "                                    pdf_link = inner_href\n",
    "                                    break\n",
    "                        if pdf_link:\n",
    "                            break\n",
    "        except requests.RequestException as e:\n",
    "            print(f\"Error checking link {href}: {e}\")\n",
    "        if pdf_link:\n",
    "            break\n",
    "\n",
    "    if not pdf_link:\n",
    "        print(f\"No PDF link found for DOI: {doi}\")\n",
    "        return\n",
    "\n",
    "    pdf_response = requests.get(pdf_link, headers=headers)\n",
    "    if pdf_response.status_code == 200 and pdf_response.headers.get('Content-Type') == 'application/pdf':\n",
    "        pdf_filename = f\"pdfs/{doi.replace('/', '_')}.pdf\"\n",
    "        with open(pdf_filename, 'wb') as pdf_file:\n",
    "            pdf_file.write(pdf_response.content)\n",
    "        print(f\"Downloaded PDF for DOI: {doi}\")\n",
    "    else:\n",
    "        print(f\"Failed to download PDF for DOI: {doi} (Status Code: {pdf_response.status_code})\")\n",
    "\n",
    "\n",
    "get_pdf_from_doi(\"10.32918/nrs.2019.1(81).13\")"
   ],
   "metadata": {
    "collapsed": false
   }
  },
  {
   "cell_type": "code",
   "execution_count": null,
   "outputs": [],
   "source": [],
   "metadata": {
    "collapsed": false
   }
  }
 ],
 "metadata": {
  "kernelspec": {
   "name": "elsavier_etl",
   "language": "python",
   "display_name": "elsavier_etl"
  },
  "language_info": {
   "codemirror_mode": {
    "name": "ipython",
    "version": 2
   },
   "file_extension": ".py",
   "mimetype": "text/x-python",
   "name": "python",
   "nbconvert_exporter": "python",
   "pygments_lexer": "ipython2",
   "version": "2.7.6"
  }
 },
 "nbformat": 4,
 "nbformat_minor": 0
}
