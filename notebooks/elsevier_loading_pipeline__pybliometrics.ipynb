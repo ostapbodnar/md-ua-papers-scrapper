{
 "cells": [
  {
   "cell_type": "code",
   "execution_count": 1,
   "metadata": {
    "collapsed": true,
    "ExecuteTime": {
     "end_time": "2024-07-27T21:14:39.862971Z",
     "start_time": "2024-07-27T21:14:39.723444Z"
    }
   },
   "outputs": [
    {
     "data": {
      "text/plain": "'/Users/ostapbodnar/Desktop/NULP/магрістратура/диплом/repos/etl/pybilometrics.cfg'"
     },
     "execution_count": 1,
     "metadata": {},
     "output_type": "execute_result"
    }
   ],
   "source": [
    "import os\n",
    "from pathlib import Path\n",
    "import pybliometrics\n",
    "from pybliometrics.scopus import ScopusSearch\n",
    "\n",
    "\n",
    "path = str(Path(os.getcwd()).parent / \"pybilometrics.cfg\")\n",
    "pybliometrics.scopus.init(path)\n",
    "path"
   ]
  },
  {
   "cell_type": "code",
   "execution_count": 6,
   "outputs": [
    {
     "ename": "ScopusQueryError",
     "evalue": "Found 43,630 matches.  The query fails to return more than 5000 entries.  Change your query such that it returns fewer entries.",
     "output_type": "error",
     "traceback": [
      "\u001B[0;31m---------------------------------------------------------------------------\u001B[0m",
      "\u001B[0;31mScopusQueryError\u001B[0m                          Traceback (most recent call last)",
      "Cell \u001B[0;32mIn[6], line 2\u001B[0m\n\u001B[1;32m      1\u001B[0m search_query \u001B[38;5;241m=\u001B[39m \u001B[38;5;124m'\u001B[39m\u001B[38;5;124mLANGUAGE ( ukrainian ) AND ( LIMIT-TO ( OA , \u001B[39m\u001B[38;5;124m\"\u001B[39m\u001B[38;5;124mall\u001B[39m\u001B[38;5;124m\"\u001B[39m\u001B[38;5;124m ) )\u001B[39m\u001B[38;5;124m'\u001B[39m\n\u001B[0;32m----> 2\u001B[0m search \u001B[38;5;241m=\u001B[39m \u001B[43mScopusSearch\u001B[49m\u001B[43m(\u001B[49m\u001B[43msearch_query\u001B[49m\u001B[43m,\u001B[49m\u001B[43m \u001B[49m\u001B[43mverbose\u001B[49m\u001B[38;5;241;43m=\u001B[39;49m\u001B[38;5;28;43;01mTrue\u001B[39;49;00m\u001B[43m,\u001B[49m\u001B[43m \u001B[49m\u001B[43mdownload\u001B[49m\u001B[38;5;241;43m=\u001B[39;49m\u001B[38;5;28;43;01mTrue\u001B[39;49;00m\u001B[43m,\u001B[49m\u001B[43m \u001B[49m\u001B[43msubscriber\u001B[49m\u001B[38;5;241;43m=\u001B[39;49m\u001B[38;5;28;43;01mFalse\u001B[39;49;00m\u001B[43m)\u001B[49m\n",
      "File \u001B[0;32m~/Library/Caches/pypoetry/virtualenvs/master-code-JS0Rj1kS-py3.12/lib/python3.12/site-packages/pybliometrics/scopus/scopus_search.py:214\u001B[0m, in \u001B[0;36mScopusSearch.__init__\u001B[0;34m(self, query, refresh, view, verbose, download, integrity_fields, integrity_action, subscriber, unescape, **kwds)\u001B[0m\n\u001B[1;32m    212\u001B[0m \u001B[38;5;28mself\u001B[39m\u001B[38;5;241m.\u001B[39m_query \u001B[38;5;241m=\u001B[39m query\n\u001B[1;32m    213\u001B[0m \u001B[38;5;28mself\u001B[39m\u001B[38;5;241m.\u001B[39m_view \u001B[38;5;241m=\u001B[39m view\n\u001B[0;32m--> 214\u001B[0m \u001B[43mSearch\u001B[49m\u001B[38;5;241;43m.\u001B[39;49m\u001B[38;5;21;43m__init__\u001B[39;49m\u001B[43m(\u001B[49m\u001B[38;5;28;43mself\u001B[39;49m\u001B[43m,\u001B[49m\u001B[43m \u001B[49m\u001B[43mquery\u001B[49m\u001B[38;5;241;43m=\u001B[39;49m\u001B[43mquery\u001B[49m\u001B[43m,\u001B[49m\u001B[43m \u001B[49m\u001B[43mapi\u001B[49m\u001B[38;5;241;43m=\u001B[39;49m\u001B[38;5;124;43m'\u001B[39;49m\u001B[38;5;124;43mScopusSearch\u001B[39;49m\u001B[38;5;124;43m'\u001B[39;49m\u001B[43m,\u001B[49m\u001B[43m \u001B[49m\u001B[43msize\u001B[49m\u001B[38;5;241;43m=\u001B[39;49m\u001B[43msize\u001B[49m\u001B[43m,\u001B[49m\n\u001B[1;32m    215\u001B[0m \u001B[43m                \u001B[49m\u001B[43mcursor\u001B[49m\u001B[38;5;241;43m=\u001B[39;49m\u001B[43msubscriber\u001B[49m\u001B[43m,\u001B[49m\u001B[43m \u001B[49m\u001B[43mdownload\u001B[49m\u001B[38;5;241;43m=\u001B[39;49m\u001B[43mdownload\u001B[49m\u001B[43m,\u001B[49m\n\u001B[1;32m    216\u001B[0m \u001B[43m                \u001B[49m\u001B[43mverbose\u001B[49m\u001B[38;5;241;43m=\u001B[39;49m\u001B[43mverbose\u001B[49m\u001B[43m,\u001B[49m\u001B[43m \u001B[49m\u001B[38;5;241;43m*\u001B[39;49m\u001B[38;5;241;43m*\u001B[39;49m\u001B[43mkwds\u001B[49m\u001B[43m)\u001B[49m\n\u001B[1;32m    217\u001B[0m \u001B[38;5;28mself\u001B[39m\u001B[38;5;241m.\u001B[39munescape \u001B[38;5;241m=\u001B[39m unescape\n",
      "File \u001B[0;32m~/Library/Caches/pypoetry/virtualenvs/master-code-JS0Rj1kS-py3.12/lib/python3.12/site-packages/pybliometrics/scopus/superclasses/search.py:66\u001B[0m, in \u001B[0;36mSearch.__init__\u001B[0;34m(self, query, api, size, cursor, download, verbose, **kwds)\u001B[0m\n\u001B[1;32m     63\u001B[0m \u001B[38;5;28mself\u001B[39m\u001B[38;5;241m.\u001B[39m_cache_file_path \u001B[38;5;241m=\u001B[39m parent\u001B[38;5;241m/\u001B[39m\u001B[38;5;28mself\u001B[39m\u001B[38;5;241m.\u001B[39m_view\u001B[38;5;241m/\u001B[39mstem\n\u001B[1;32m     65\u001B[0m \u001B[38;5;66;03m# Init\u001B[39;00m\n\u001B[0;32m---> 66\u001B[0m \u001B[43mBase\u001B[49m\u001B[38;5;241;43m.\u001B[39;49m\u001B[38;5;21;43m__init__\u001B[39;49m\u001B[43m(\u001B[49m\u001B[38;5;28;43mself\u001B[39;49m\u001B[43m,\u001B[49m\u001B[43m \u001B[49m\u001B[43mparams\u001B[49m\u001B[38;5;241;43m=\u001B[39;49m\u001B[43mparams\u001B[49m\u001B[43m,\u001B[49m\u001B[43m \u001B[49m\u001B[43murl\u001B[49m\u001B[38;5;241;43m=\u001B[39;49m\u001B[43mURLS\u001B[49m\u001B[43m[\u001B[49m\u001B[43mapi\u001B[49m\u001B[43m]\u001B[49m\u001B[43m,\u001B[49m\u001B[43m \u001B[49m\u001B[43mdownload\u001B[49m\u001B[38;5;241;43m=\u001B[39;49m\u001B[43mdownload\u001B[49m\u001B[43m,\u001B[49m\n\u001B[1;32m     67\u001B[0m \u001B[43m              \u001B[49m\u001B[43mapi\u001B[49m\u001B[38;5;241;43m=\u001B[39;49m\u001B[43mapi\u001B[49m\u001B[43m,\u001B[49m\u001B[43m \u001B[49m\u001B[43mverbose\u001B[49m\u001B[38;5;241;43m=\u001B[39;49m\u001B[43mverbose\u001B[49m\u001B[43m)\u001B[49m\n",
      "File \u001B[0;32m~/Library/Caches/pypoetry/virtualenvs/master-code-JS0Rj1kS-py3.12/lib/python3.12/site-packages/pybliometrics/scopus/superclasses/base.py:86\u001B[0m, in \u001B[0;36mBase.__init__\u001B[0;34m(self, params, url, api, download, verbose, *args, **kwds)\u001B[0m\n\u001B[1;32m     81\u001B[0m \u001B[38;5;28;01mif\u001B[39;00m \u001B[38;5;129;01mnot\u001B[39;00m cursor_exists \u001B[38;5;129;01mand\u001B[39;00m n \u001B[38;5;241m>\u001B[39m SEARCH_MAX_ENTRIES:\n\u001B[1;32m     82\u001B[0m     \u001B[38;5;66;03m# Stop if there are too many results\u001B[39;00m\n\u001B[1;32m     83\u001B[0m     text \u001B[38;5;241m=\u001B[39m \u001B[38;5;124mf\u001B[39m\u001B[38;5;124m'\u001B[39m\u001B[38;5;124mFound \u001B[39m\u001B[38;5;132;01m{\u001B[39;00mn\u001B[38;5;132;01m:\u001B[39;00m\u001B[38;5;124m,\u001B[39m\u001B[38;5;132;01m}\u001B[39;00m\u001B[38;5;124m matches.  The query fails to return \u001B[39m\u001B[38;5;124m'\u001B[39m\\\n\u001B[1;32m     84\u001B[0m            \u001B[38;5;124mf\u001B[39m\u001B[38;5;124m'\u001B[39m\u001B[38;5;124mmore than \u001B[39m\u001B[38;5;132;01m{\u001B[39;00mSEARCH_MAX_ENTRIES\u001B[38;5;132;01m}\u001B[39;00m\u001B[38;5;124m entries.  Change \u001B[39m\u001B[38;5;124m'\u001B[39m\\\n\u001B[1;32m     85\u001B[0m            \u001B[38;5;124m'\u001B[39m\u001B[38;5;124myour query such that it returns fewer entries.\u001B[39m\u001B[38;5;124m'\u001B[39m\n\u001B[0;32m---> 86\u001B[0m     \u001B[38;5;28;01mraise\u001B[39;00m ScopusQueryError(text)\n\u001B[1;32m     87\u001B[0m \u001B[38;5;28mself\u001B[39m\u001B[38;5;241m.\u001B[39m_json \u001B[38;5;241m=\u001B[39m []\n\u001B[1;32m     88\u001B[0m \u001B[38;5;66;03m# Download results page-wise\u001B[39;00m\n",
      "\u001B[0;31mScopusQueryError\u001B[0m: Found 43,630 matches.  The query fails to return more than 5000 entries.  Change your query such that it returns fewer entries."
     ]
    }
   ],
   "source": [
    "search_query = 'LANGUAGE ( ukrainian ) AND ( LIMIT-TO ( OA , \"all\" ) )'\n",
    "search = ScopusSearch(search_query, verbose=True, download=True, subscriber=False)"
   ],
   "metadata": {
    "collapsed": false,
    "ExecuteTime": {
     "end_time": "2024-07-27T21:18:07.573646Z",
     "start_time": "2024-07-27T21:18:05.914139Z"
    }
   }
  },
  {
   "cell_type": "code",
   "execution_count": 7,
   "outputs": [
    {
     "ename": "NameError",
     "evalue": "name 'search' is not defined",
     "output_type": "error",
     "traceback": [
      "\u001B[0;31m---------------------------------------------------------------------------\u001B[0m",
      "\u001B[0;31mNameError\u001B[0m                                 Traceback (most recent call last)",
      "Cell \u001B[0;32mIn[7], line 1\u001B[0m\n\u001B[0;32m----> 1\u001B[0m \u001B[43msearch\u001B[49m\u001B[38;5;241m.\u001B[39mget_results_size()\n",
      "\u001B[0;31mNameError\u001B[0m: name 'search' is not defined"
     ]
    }
   ],
   "source": [
    "search.get_results_size()"
   ],
   "metadata": {
    "collapsed": false,
    "ExecuteTime": {
     "end_time": "2024-07-27T21:18:08.261463Z",
     "start_time": "2024-07-27T21:18:08.237970Z"
    }
   }
  },
  {
   "cell_type": "code",
   "execution_count": 8,
   "outputs": [],
   "source": [
    "import pandas as pd\n",
    "df = pd.DataFrame(search_query.results)\n",
    "\n",
    "df"
   ],
   "metadata": {
    "collapsed": false,
    "ExecuteTime": {
     "end_time": "2024-07-19T09:25:32.234244Z",
     "start_time": "2024-07-19T09:25:32.228944Z"
    }
   }
  },
  {
   "cell_type": "code",
   "execution_count": null,
   "outputs": [],
   "source": [],
   "metadata": {
    "collapsed": false
   }
  }
 ],
 "metadata": {
  "kernelspec": {
   "name": "elsavier_etl",
   "language": "python",
   "display_name": "elsavier_etl"
  },
  "language_info": {
   "codemirror_mode": {
    "name": "ipython",
    "version": 2
   },
   "file_extension": ".py",
   "mimetype": "text/x-python",
   "name": "python",
   "nbconvert_exporter": "python",
   "pygments_lexer": "ipython2",
   "version": "2.7.6"
  }
 },
 "nbformat": 4,
 "nbformat_minor": 0
}
